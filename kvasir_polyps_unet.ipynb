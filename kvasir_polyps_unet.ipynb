{
 "cells": [
  {
   "cell_type": "markdown",
   "metadata": {},
   "source": [
    "Pip install's for remote GPU"
   ]
  },
  {
   "cell_type": "code",
   "execution_count": 9,
   "metadata": {
    "execution": {
     "iopub.execute_input": "2024-04-15T21:14:00.353258Z",
     "iopub.status.busy": "2024-04-15T21:14:00.352642Z",
     "iopub.status.idle": "2024-04-15T21:14:28.888079Z",
     "shell.execute_reply": "2024-04-15T21:14:28.887233Z",
     "shell.execute_reply.started": "2024-04-15T21:14:00.353233Z"
    }
   },
   "outputs": [
    {
     "name": "stdout",
     "output_type": "stream",
     "text": [
      "Requirement already satisfied: torch in /usr/local/lib/python3.9/dist-packages (1.12.1+cu116)\n",
      "Requirement already satisfied: typing-extensions in /usr/local/lib/python3.9/dist-packages (from torch) (4.4.0)\n",
      "\u001b[33mWARNING: Running pip as the 'root' user can result in broken permissions and conflicting behaviour with the system package manager. It is recommended to use a virtual environment instead: https://pip.pypa.io/warnings/venv\u001b[0m\u001b[33m\n",
      "\u001b[0mRequirement already satisfied: torchvision in /usr/local/lib/python3.9/dist-packages (0.13.1+cu116)\n",
      "Requirement already satisfied: requests in /usr/local/lib/python3.9/dist-packages (from torchvision) (2.28.2)\n",
      "Requirement already satisfied: typing-extensions in /usr/local/lib/python3.9/dist-packages (from torchvision) (4.4.0)\n",
      "Requirement already satisfied: numpy in /usr/local/lib/python3.9/dist-packages (from torchvision) (1.23.4)\n",
      "Requirement already satisfied: torch==1.12.1 in /usr/local/lib/python3.9/dist-packages (from torchvision) (1.12.1+cu116)\n",
      "Requirement already satisfied: pillow!=8.3.*,>=5.3.0 in /usr/local/lib/python3.9/dist-packages (from torchvision) (9.2.0)\n",
      "Requirement already satisfied: certifi>=2017.4.17 in /usr/lib/python3/dist-packages (from requests->torchvision) (2019.11.28)\n",
      "Requirement already satisfied: charset-normalizer<4,>=2 in /usr/local/lib/python3.9/dist-packages (from requests->torchvision) (2.1.1)\n",
      "Requirement already satisfied: idna<4,>=2.5 in /usr/lib/python3/dist-packages (from requests->torchvision) (2.8)\n",
      "Requirement already satisfied: urllib3<1.27,>=1.21.1 in /usr/local/lib/python3.9/dist-packages (from requests->torchvision) (1.26.14)\n",
      "\u001b[33mWARNING: Running pip as the 'root' user can result in broken permissions and conflicting behaviour with the system package manager. It is recommended to use a virtual environment instead: https://pip.pypa.io/warnings/venv\u001b[0m\u001b[33m\n",
      "\u001b[0mRequirement already satisfied: numpy in /usr/local/lib/python3.9/dist-packages (1.23.4)\n",
      "\u001b[33mWARNING: Running pip as the 'root' user can result in broken permissions and conflicting behaviour with the system package manager. It is recommended to use a virtual environment instead: https://pip.pypa.io/warnings/venv\u001b[0m\u001b[33m\n",
      "\u001b[0mRequirement already satisfied: torchmetrics in /usr/local/lib/python3.9/dist-packages (1.3.2)\n",
      "Requirement already satisfied: packaging>17.1 in /usr/local/lib/python3.9/dist-packages (from torchmetrics) (23.0)\n",
      "Requirement already satisfied: lightning-utilities>=0.8.0 in /usr/local/lib/python3.9/dist-packages (from torchmetrics) (0.11.2)\n",
      "Requirement already satisfied: numpy>1.20.0 in /usr/local/lib/python3.9/dist-packages (from torchmetrics) (1.23.4)\n",
      "Requirement already satisfied: torch>=1.10.0 in /usr/local/lib/python3.9/dist-packages (from torchmetrics) (1.12.1+cu116)\n",
      "Requirement already satisfied: setuptools in /usr/local/lib/python3.9/dist-packages (from lightning-utilities>=0.8.0->torchmetrics) (66.1.1)\n",
      "Requirement already satisfied: typing-extensions in /usr/local/lib/python3.9/dist-packages (from lightning-utilities>=0.8.0->torchmetrics) (4.4.0)\n",
      "\u001b[33mWARNING: Running pip as the 'root' user can result in broken permissions and conflicting behaviour with the system package manager. It is recommended to use a virtual environment instead: https://pip.pypa.io/warnings/venv\u001b[0m\u001b[33m\n",
      "\u001b[0mRequirement already satisfied: torchinfo in /usr/local/lib/python3.9/dist-packages (1.8.0)\n",
      "\u001b[33mWARNING: Running pip as the 'root' user can result in broken permissions and conflicting behaviour with the system package manager. It is recommended to use a virtual environment instead: https://pip.pypa.io/warnings/venv\u001b[0m\u001b[33m\n",
      "\u001b[0mRequirement already satisfied: matplotlib in /usr/local/lib/python3.9/dist-packages (3.6.1)\n",
      "Requirement already satisfied: python-dateutil>=2.7 in /usr/local/lib/python3.9/dist-packages (from matplotlib) (2.8.2)\n",
      "Requirement already satisfied: pillow>=6.2.0 in /usr/local/lib/python3.9/dist-packages (from matplotlib) (9.2.0)\n",
      "Requirement already satisfied: fonttools>=4.22.0 in /usr/local/lib/python3.9/dist-packages (from matplotlib) (4.38.0)\n",
      "Requirement already satisfied: packaging>=20.0 in /usr/local/lib/python3.9/dist-packages (from matplotlib) (23.0)\n",
      "Requirement already satisfied: kiwisolver>=1.0.1 in /usr/local/lib/python3.9/dist-packages (from matplotlib) (1.4.4)\n",
      "Requirement already satisfied: cycler>=0.10 in /usr/local/lib/python3.9/dist-packages (from matplotlib) (0.11.0)\n",
      "Requirement already satisfied: contourpy>=1.0.1 in /usr/local/lib/python3.9/dist-packages (from matplotlib) (1.0.7)\n",
      "Requirement already satisfied: pyparsing>=2.2.1 in /usr/local/lib/python3.9/dist-packages (from matplotlib) (3.0.9)\n",
      "Requirement already satisfied: numpy>=1.19 in /usr/local/lib/python3.9/dist-packages (from matplotlib) (1.23.4)\n",
      "Requirement already satisfied: six>=1.5 in /usr/lib/python3/dist-packages (from python-dateutil>=2.7->matplotlib) (1.14.0)\n",
      "\u001b[33mWARNING: Running pip as the 'root' user can result in broken permissions and conflicting behaviour with the system package manager. It is recommended to use a virtual environment instead: https://pip.pypa.io/warnings/venv\u001b[0m\u001b[33m\n",
      "\u001b[0mRequirement already satisfied: scikit-learn in /usr/local/lib/python3.9/dist-packages (1.1.2)\n",
      "Requirement already satisfied: numpy>=1.17.3 in /usr/local/lib/python3.9/dist-packages (from scikit-learn) (1.23.4)\n",
      "Requirement already satisfied: threadpoolctl>=2.0.0 in /usr/local/lib/python3.9/dist-packages (from scikit-learn) (3.1.0)\n",
      "Requirement already satisfied: joblib>=1.0.0 in /usr/local/lib/python3.9/dist-packages (from scikit-learn) (1.2.0)\n",
      "Requirement already satisfied: scipy>=1.3.2 in /usr/local/lib/python3.9/dist-packages (from scikit-learn) (1.9.2)\n",
      "\u001b[33mWARNING: Running pip as the 'root' user can result in broken permissions and conflicting behaviour with the system package manager. It is recommended to use a virtual environment instead: https://pip.pypa.io/warnings/venv\u001b[0m\u001b[33m\n",
      "\u001b[0mRequirement already satisfied: pandas in /usr/local/lib/python3.9/dist-packages (1.5.0)\n",
      "Requirement already satisfied: python-dateutil>=2.8.1 in /usr/local/lib/python3.9/dist-packages (from pandas) (2.8.2)\n",
      "Requirement already satisfied: pytz>=2020.1 in /usr/local/lib/python3.9/dist-packages (from pandas) (2022.7.1)\n",
      "Requirement already satisfied: numpy>=1.20.3 in /usr/local/lib/python3.9/dist-packages (from pandas) (1.23.4)\n",
      "Requirement already satisfied: six>=1.5 in /usr/lib/python3/dist-packages (from python-dateutil>=2.8.1->pandas) (1.14.0)\n",
      "\u001b[33mWARNING: Running pip as the 'root' user can result in broken permissions and conflicting behaviour with the system package manager. It is recommended to use a virtual environment instead: https://pip.pypa.io/warnings/venv\u001b[0m\u001b[33m\n",
      "\u001b[0mRequirement already satisfied: pytorch-toolbelt in /usr/local/lib/python3.9/dist-packages (0.6.3)\n",
      "Requirement already satisfied: torch>=1.11.0 in /usr/local/lib/python3.9/dist-packages (from pytorch-toolbelt) (1.12.1+cu116)\n",
      "Requirement already satisfied: opencv-python>=4.1 in /usr/local/lib/python3.9/dist-packages (from pytorch-toolbelt) (4.6.0.66)\n",
      "Requirement already satisfied: scipy>=1.4.0 in /usr/local/lib/python3.9/dist-packages (from pytorch-toolbelt) (1.9.2)\n",
      "Requirement already satisfied: torchvision in /usr/local/lib/python3.9/dist-packages (from pytorch-toolbelt) (0.13.1+cu116)\n",
      "Requirement already satisfied: numpy>=1.17.3 in /usr/local/lib/python3.9/dist-packages (from opencv-python>=4.1->pytorch-toolbelt) (1.23.4)\n",
      "Requirement already satisfied: typing-extensions in /usr/local/lib/python3.9/dist-packages (from torch>=1.11.0->pytorch-toolbelt) (4.4.0)\n",
      "Requirement already satisfied: requests in /usr/local/lib/python3.9/dist-packages (from torchvision->pytorch-toolbelt) (2.28.2)\n",
      "Requirement already satisfied: pillow!=8.3.*,>=5.3.0 in /usr/local/lib/python3.9/dist-packages (from torchvision->pytorch-toolbelt) (9.2.0)\n",
      "Requirement already satisfied: urllib3<1.27,>=1.21.1 in /usr/local/lib/python3.9/dist-packages (from requests->torchvision->pytorch-toolbelt) (1.26.14)\n",
      "Requirement already satisfied: certifi>=2017.4.17 in /usr/lib/python3/dist-packages (from requests->torchvision->pytorch-toolbelt) (2019.11.28)\n",
      "Requirement already satisfied: idna<4,>=2.5 in /usr/lib/python3/dist-packages (from requests->torchvision->pytorch-toolbelt) (2.8)\n",
      "Requirement already satisfied: charset-normalizer<4,>=2 in /usr/local/lib/python3.9/dist-packages (from requests->torchvision->pytorch-toolbelt) (2.1.1)\n",
      "\u001b[33mWARNING: Running pip as the 'root' user can result in broken permissions and conflicting behaviour with the system package manager. It is recommended to use a virtual environment instead: https://pip.pypa.io/warnings/venv\u001b[0m\u001b[33m\n",
      "\u001b[0mRequirement already satisfied: segmentation-models-pytorch in /usr/local/lib/python3.9/dist-packages (0.3.3)\n",
      "Requirement already satisfied: efficientnet-pytorch==0.7.1 in /usr/local/lib/python3.9/dist-packages (from segmentation-models-pytorch) (0.7.1)\n",
      "Requirement already satisfied: timm==0.9.2 in /usr/local/lib/python3.9/dist-packages (from segmentation-models-pytorch) (0.9.2)\n",
      "Requirement already satisfied: tqdm in /usr/local/lib/python3.9/dist-packages (from segmentation-models-pytorch) (4.64.1)\n",
      "Requirement already satisfied: torchvision>=0.5.0 in /usr/local/lib/python3.9/dist-packages (from segmentation-models-pytorch) (0.13.1+cu116)\n",
      "Requirement already satisfied: pillow in /usr/local/lib/python3.9/dist-packages (from segmentation-models-pytorch) (9.2.0)\n",
      "Requirement already satisfied: pretrainedmodels==0.7.4 in /usr/local/lib/python3.9/dist-packages (from segmentation-models-pytorch) (0.7.4)\n",
      "Requirement already satisfied: torch in /usr/local/lib/python3.9/dist-packages (from efficientnet-pytorch==0.7.1->segmentation-models-pytorch) (1.12.1+cu116)\n",
      "Requirement already satisfied: munch in /usr/local/lib/python3.9/dist-packages (from pretrainedmodels==0.7.4->segmentation-models-pytorch) (4.0.0)\n",
      "Requirement already satisfied: pyyaml in /usr/local/lib/python3.9/dist-packages (from timm==0.9.2->segmentation-models-pytorch) (5.4.1)\n",
      "Requirement already satisfied: huggingface-hub in /usr/local/lib/python3.9/dist-packages (from timm==0.9.2->segmentation-models-pytorch) (0.12.0)\n",
      "Requirement already satisfied: safetensors in /usr/local/lib/python3.9/dist-packages (from timm==0.9.2->segmentation-models-pytorch) (0.4.3)\n",
      "Requirement already satisfied: requests in /usr/local/lib/python3.9/dist-packages (from torchvision>=0.5.0->segmentation-models-pytorch) (2.28.2)\n",
      "Requirement already satisfied: numpy in /usr/local/lib/python3.9/dist-packages (from torchvision>=0.5.0->segmentation-models-pytorch) (1.23.4)\n",
      "Requirement already satisfied: typing-extensions in /usr/local/lib/python3.9/dist-packages (from torchvision>=0.5.0->segmentation-models-pytorch) (4.4.0)\n",
      "Requirement already satisfied: packaging>=20.9 in /usr/local/lib/python3.9/dist-packages (from huggingface-hub->timm==0.9.2->segmentation-models-pytorch) (23.0)\n",
      "Requirement already satisfied: filelock in /usr/local/lib/python3.9/dist-packages (from huggingface-hub->timm==0.9.2->segmentation-models-pytorch) (3.9.0)\n",
      "Requirement already satisfied: urllib3<1.27,>=1.21.1 in /usr/local/lib/python3.9/dist-packages (from requests->torchvision>=0.5.0->segmentation-models-pytorch) (1.26.14)\n",
      "Requirement already satisfied: charset-normalizer<4,>=2 in /usr/local/lib/python3.9/dist-packages (from requests->torchvision>=0.5.0->segmentation-models-pytorch) (2.1.1)\n",
      "Requirement already satisfied: certifi>=2017.4.17 in /usr/lib/python3/dist-packages (from requests->torchvision>=0.5.0->segmentation-models-pytorch) (2019.11.28)\n",
      "Requirement already satisfied: idna<4,>=2.5 in /usr/lib/python3/dist-packages (from requests->torchvision>=0.5.0->segmentation-models-pytorch) (2.8)\n",
      "\u001b[33mWARNING: Running pip as the 'root' user can result in broken permissions and conflicting behaviour with the system package manager. It is recommended to use a virtual environment instead: https://pip.pypa.io/warnings/venv\u001b[0m\u001b[33m\n",
      "\u001b[0m"
     ]
    }
   ],
   "source": [
    "!pip install torch\n",
    "!pip install torchvision\n",
    "!pip install numpy\n",
    "!pip install torchmetrics\n",
    "!pip install torchinfo\n",
    "!pip install matplotlib\n",
    "!pip install scikit-learn\n",
    "!pip install pandas\n",
    "!pip install pytorch-toolbelt\n",
    "!pip install segmentation-models-pytorch"
   ]
  },
  {
   "cell_type": "markdown",
   "metadata": {},
   "source": [
    "Imports"
   ]
  },
  {
   "cell_type": "code",
   "execution_count": 10,
   "metadata": {
    "execution": {
     "iopub.execute_input": "2024-04-15T21:14:28.889817Z",
     "iopub.status.busy": "2024-04-15T21:14:28.889604Z",
     "iopub.status.idle": "2024-04-15T21:14:28.895759Z",
     "shell.execute_reply": "2024-04-15T21:14:28.895197Z",
     "shell.execute_reply.started": "2024-04-15T21:14:28.889795Z"
    }
   },
   "outputs": [],
   "source": [
    "import matplotlib.pyplot as plt\n",
    "\n",
    "import torch\n",
    "import torch.nn as nn\n",
    "\n",
    "import torchvision\n",
    "import torchvision.models as models\n",
    "from torchvision import *\n",
    "from torchvision import datasets\n",
    "\n",
    "from torchmetrics import *\n",
    "from torchmetrics import JaccardIndex\n",
    "from torchmetrics import Dice\n",
    "\n",
    "from torch.utils.data import *\n",
    "\n",
    "import sklearn as sk\n",
    "from sklearn.model_selection import StratifiedKFold\n",
    "from sklearn.model_selection import KFold\n",
    "from sklearn import *\n",
    "from sklearn import svm\n",
    "from sklearn.metrics import jaccard_score\n",
    "from skimage.transform import rescale, resize, downscale_local_mean\n",
    "from skimage import io, color\n",
    "\n",
    "import segmentation_models_pytorch as smp\n",
    "\n",
    "from PIL import Image\n",
    "\n",
    "import pandas as pd\n",
    "\n",
    "from itertools import compress\n",
    "\n",
    "from tqdm import tqdm\n",
    "\n",
    "from dataset import PolypsSegmentationDataset"
   ]
  },
  {
   "cell_type": "markdown",
   "metadata": {},
   "source": [
    "Data Processing"
   ]
  },
  {
   "cell_type": "code",
   "execution_count": 11,
   "metadata": {
    "execution": {
     "iopub.execute_input": "2024-04-15T21:14:28.896590Z",
     "iopub.status.busy": "2024-04-15T21:14:28.896419Z",
     "iopub.status.idle": "2024-04-15T21:14:28.922931Z",
     "shell.execute_reply": "2024-04-15T21:14:28.922382Z",
     "shell.execute_reply.started": "2024-04-15T21:14:28.896574Z"
    }
   },
   "outputs": [
    {
     "name": "stderr",
     "output_type": "stream",
     "text": [
      "100%|██████████| 1000/1000 [00:00<00:00, 340917.17it/s]\n",
      "100%|██████████| 1000/1000 [00:00<00:00, 339235.20it/s]\n",
      "100%|██████████| 1000/1000 [00:00<00:00, 343767.23it/s]\n",
      "100%|██████████| 1000/1000 [00:00<00:00, 360645.23it/s]\n"
     ]
    }
   ],
   "source": [
    "# define path to images\n",
    "image_path = './Kvasir-SEG'\n",
    "size = 256\n",
    "# get dataset, need resize to be divisible by 16 for all 4 max pools, to keep \n",
    "# dim the same of up transpose\n",
    "# need tot check resize to see if random crop is correct\n",
    "# and check to normalize\n",
    "dataset = PolypsSegmentationDataset(image_path,size)\n",
    "augmented_dataset = PolypsSegmentationDataset(image_path,size,True)"
   ]
  },
  {
   "cell_type": "code",
   "execution_count": 12,
   "metadata": {
    "execution": {
     "iopub.execute_input": "2024-04-15T21:14:28.924737Z",
     "iopub.status.busy": "2024-04-15T21:14:28.924203Z",
     "iopub.status.idle": "2024-04-15T21:14:28.927290Z",
     "shell.execute_reply": "2024-04-15T21:14:28.926761Z",
     "shell.execute_reply.started": "2024-04-15T21:14:28.924716Z"
    }
   },
   "outputs": [],
   "source": [
    "# hyperparameters\n",
    "BATCH_SIZE = 16\n",
    "# converting dataset to dataloader, why does shuffle cause error?\n",
    "# dataloader = DataLoader(dataset = dataset, batch_size = BATCH_SIZE)"
   ]
  },
  {
   "cell_type": "markdown",
   "metadata": {},
   "source": [
    "Network"
   ]
  },
  {
   "cell_type": "code",
   "execution_count": 13,
   "metadata": {
    "execution": {
     "iopub.execute_input": "2024-04-15T21:14:28.928369Z",
     "iopub.status.busy": "2024-04-15T21:14:28.928202Z",
     "iopub.status.idle": "2024-04-15T21:14:29.306386Z",
     "shell.execute_reply": "2024-04-15T21:14:29.305768Z",
     "shell.execute_reply.started": "2024-04-15T21:14:28.928353Z"
    }
   },
   "outputs": [
    {
     "name": "stderr",
     "output_type": "stream",
     "text": [
      "Using cache found in /root/.cache/torch/hub/mateuszbuda_brain-segmentation-pytorch_master\n"
     ]
    }
   ],
   "source": [
    "# loading unet model from pytorch\n",
    "UNet = torch.hub.load('mateuszbuda/brain-segmentation-pytorch', 'unet',\n",
    "    in_channels=3, out_channels=1, init_features=64, pretrained=False)"
   ]
  },
  {
   "cell_type": "markdown",
   "metadata": {},
   "source": [
    "Training Methods"
   ]
  },
  {
   "cell_type": "code",
   "execution_count": 14,
   "metadata": {
    "execution": {
     "iopub.execute_input": "2024-04-15T21:14:29.307572Z",
     "iopub.status.busy": "2024-04-15T21:14:29.307373Z",
     "iopub.status.idle": "2024-04-15T21:14:29.313783Z",
     "shell.execute_reply": "2024-04-15T21:14:29.313166Z",
     "shell.execute_reply.started": "2024-04-15T21:14:29.307553Z"
    }
   },
   "outputs": [],
   "source": [
    "# Define the training function\n",
    "def train(model, loss_fn, device, train_loader, optimizer, jaccard, dice):\n",
    "    \n",
    "    total_loss = 0\n",
    "    total_iou = 0\n",
    "    total_dice = 0\n",
    "    \n",
    "    for batch_idx, (X, y) in enumerate(train_loader):\n",
    "        \n",
    "        # get x and y\n",
    "        X_train, y_train = X.to(device), y.to(device)\n",
    "        model.train()\n",
    "        # get output\n",
    "        output = model(X_train).to(device)\n",
    "        # compute loss\n",
    "        loss = loss_fn(output, y_train)\n",
    "        total_loss += loss.item()\n",
    "        # compute IOU\n",
    "        iou = jaccard(torch.where(output > 0.5, 1, 0),torch.where(y_train > 0.50, 1, 0))\n",
    "        total_iou += iou\n",
    "        # compute dice score\n",
    "        dice_score = dice(torch.where(output > 0.5, 1, 0),torch.where(y_train > 0.50, 1, 0))\n",
    "        total_dice += dice_score\n",
    "        # optimize\n",
    "        optimizer.zero_grad()\n",
    "        loss.backward()\n",
    "        optimizer.step()\n",
    "        \n",
    "    print(f\"Train Loss: {total_loss / len(train_loader)} | Train IOU: {total_iou / len(train_loader)} | Train Dice: {total_dice / len(train_loader)}\")\n",
    "        "
   ]
  },
  {
   "cell_type": "markdown",
   "metadata": {},
   "source": [
    "Training"
   ]
  },
  {
   "cell_type": "code",
   "execution_count": 15,
   "metadata": {
    "execution": {
     "iopub.execute_input": "2024-04-15T21:14:29.314802Z",
     "iopub.status.busy": "2024-04-15T21:14:29.314625Z",
     "iopub.status.idle": "2024-04-15T21:14:29.317798Z",
     "shell.execute_reply": "2024-04-15T21:14:29.317297Z",
     "shell.execute_reply.started": "2024-04-15T21:14:29.314785Z"
    }
   },
   "outputs": [],
   "source": [
    "# number of splits for data\n",
    "splits = 10\n",
    "# defining k-fold object\n",
    "kf = KFold(splits,shuffle = True)"
   ]
  },
  {
   "cell_type": "code",
   "execution_count": 16,
   "metadata": {
    "execution": {
     "iopub.execute_input": "2024-04-15T21:14:29.318734Z",
     "iopub.status.busy": "2024-04-15T21:14:29.318556Z",
     "iopub.status.idle": "2024-04-15T21:14:29.366790Z",
     "shell.execute_reply": "2024-04-15T21:14:29.366202Z",
     "shell.execute_reply.started": "2024-04-15T21:14:29.318716Z"
    }
   },
   "outputs": [],
   "source": [
    "device = 'cuda' if torch.cuda.is_available() else 'cpu'\n",
    "lr = 0.001\n",
    "model = UNet.to(device)\n",
    "optimizer = torch.optim.Adam(model.parameters(), lr)\n",
    "loss = torch.nn.BCELoss()\n",
    "jaccard = JaccardIndex(task= 'BINARY',num_classes = 1, threshold = 0.5).to(device)\n",
    "dice = Dice(average = 'micro', num_classes = 2, threshold = 0.5).to(device)\n",
    "\n",
    "lr_scheduler = torch.optim.lr_scheduler.ExponentialLR(optimizer, gamma=0.1)\n"
   ]
  },
  {
   "cell_type": "markdown",
   "metadata": {},
   "source": [
    "Binary Cross Entropy Loss"
   ]
  },
  {
   "cell_type": "code",
   "execution_count": 73,
   "metadata": {},
   "outputs": [
    {
     "name": "stdout",
     "output_type": "stream",
     "text": [
      "Fold: 1\n",
      "Train Loss: 0.3246012523508908 | Train IOU: 0.22953636944293976 | Train Dice: 0.8555375933647156\n",
      "Train Loss: 0.3173249722049947 | Train IOU: 0.2630769610404968 | Train Dice: 0.8597924113273621\n",
      "Train Loss: 0.3110210547844569 | Train IOU: 0.28802385926246643 | Train Dice: 0.8635881543159485\n",
      "Train Loss: 0.3119384981038278 | Train IOU: 0.287295401096344 | Train Dice: 0.8640230298042297\n",
      "Train Loss: 0.3019134572200608 | Train IOU: 0.317396879196167 | Train Dice: 0.8685218095779419\n"
     ]
    },
    {
     "name": "stderr",
     "output_type": "stream",
     "text": [
      "100%|██████████| 7/7 [00:07<00:00,  1.14s/it]\n"
     ]
    },
    {
     "name": "stdout",
     "output_type": "stream",
     "text": [
      "Test set Average loss: 0.29844591447285246 | IOU: 0.18376511761120387 | Dice: 0.8731892449515206\n",
      "Fold: 2\n",
      "Train Loss: 0.29432114932620734 | Train IOU: 0.27370908856391907 | Train Dice: 0.8732500672340393\n",
      "Train Loss: 0.2865501610856307 | Train IOU: 0.3297019302845001 | Train Dice: 0.8765408992767334\n",
      "Train Loss: 0.28557975250377987 | Train IOU: 0.33532485365867615 | Train Dice: 0.8768834471702576\n",
      "Train Loss: 0.2854928742898138 | Train IOU: 0.3337458372116089 | Train Dice: 0.8777523636817932\n",
      "Train Loss: 0.28472888495838433 | Train IOU: 0.33675616979599 | Train Dice: 0.8776412606239319\n"
     ]
    },
    {
     "name": "stderr",
     "output_type": "stream",
     "text": [
      "100%|██████████| 7/7 [00:07<00:00,  1.04s/it]\n"
     ]
    },
    {
     "name": "stdout",
     "output_type": "stream",
     "text": [
      "Test set Average loss: 0.3199853811945234 | IOU: 0.3607363360268729 | Dice: 0.8580853598458427\n",
      "Fold: 3\n",
      "Train Loss: 0.28122893446370173 | Train IOU: 0.3538222014904022 | Train Dice: 0.8802264332771301\n",
      "Train Loss: 0.2838909631235558 | Train IOU: 0.3479730188846588 | Train Dice: 0.8776221871376038\n",
      "Train Loss: 0.2834571236581133 | Train IOU: 0.3529863953590393 | Train Dice: 0.8783853650093079\n",
      "Train Loss: 0.280654731026867 | Train IOU: 0.356536328792572 | Train Dice: 0.8798822164535522\n",
      "Train Loss: 0.28503276277006717 | Train IOU: 0.3584207594394684 | Train Dice: 0.878139078617096\n"
     ]
    },
    {
     "name": "stderr",
     "output_type": "stream",
     "text": [
      "100%|██████████| 7/7 [00:08<00:00,  1.19s/it]\n"
     ]
    },
    {
     "name": "stdout",
     "output_type": "stream",
     "text": [
      "Test set Average loss: 0.299784426178251 | IOU: 0.2491137268287795 | Dice: 0.8709449768066406\n",
      "Fold: 4\n",
      "Train Loss: 0.2860744080522604 | Train IOU: 0.3517204523086548 | Train Dice: 0.8766312003135681\n",
      "Train Loss: 0.280644029378891 | Train IOU: 0.3530982434749603 | Train Dice: 0.8789738416671753\n",
      "Train Loss: 0.2842458486557007 | Train IOU: 0.3512399196624756 | Train Dice: 0.8776099681854248\n",
      "Train Loss: 0.28118475722639186 | Train IOU: 0.35958337783813477 | Train Dice: 0.8804478049278259\n",
      "Train Loss: 0.28220231752646596 | Train IOU: 0.3480183184146881 | Train Dice: 0.8791677951812744\n"
     ]
    },
    {
     "name": "stderr",
     "output_type": "stream",
     "text": [
      "100%|██████████| 7/7 [00:08<00:00,  1.25s/it]\n"
     ]
    },
    {
     "name": "stdout",
     "output_type": "stream",
     "text": [
      "Test set Average loss: 0.3188244679144451 | IOU: 0.3482488287346704 | Dice: 0.8656800133841378\n",
      "Fold: 5\n",
      "Train Loss: 0.29205829166529473 | Train IOU: 0.34376585483551025 | Train Dice: 0.8741167783737183\n",
      "Train Loss: 0.2880961824404566 | Train IOU: 0.34325483441352844 | Train Dice: 0.8757225871086121\n",
      "Train Loss: 0.286719621796357 | Train IOU: 0.34316951036453247 | Train Dice: 0.8756811618804932\n",
      "Train Loss: 0.28596063847081704 | Train IOU: 0.3500840365886688 | Train Dice: 0.876876711845398\n",
      "Train Loss: 0.2872100922099331 | Train IOU: 0.34767064452171326 | Train Dice: 0.8763291239738464\n"
     ]
    },
    {
     "name": "stderr",
     "output_type": "stream",
     "text": [
      "100%|██████████| 7/7 [00:10<00:00,  1.53s/it]\n"
     ]
    },
    {
     "name": "stdout",
     "output_type": "stream",
     "text": [
      "Test set Average loss: 0.25819943845272064 | IOU: 0.40388159666742596 | Dice: 0.8932597296578544\n",
      "Fold: 6\n",
      "Train Loss: 0.2861002529399437 | Train IOU: 0.3446207046508789 | Train Dice: 0.876017689704895\n",
      "Train Loss: 0.2840150772479543 | Train IOU: 0.3520493805408478 | Train Dice: 0.8776971101760864\n",
      "Train Loss: 0.2889698124245593 | Train IOU: 0.3450757563114166 | Train Dice: 0.8747583031654358\n",
      "Train Loss: 0.286322915240338 | Train IOU: 0.34762904047966003 | Train Dice: 0.8764713406562805\n",
      "Train Loss: 0.28625924519279544 | Train IOU: 0.3475101888179779 | Train Dice: 0.876926839351654\n"
     ]
    },
    {
     "name": "stderr",
     "output_type": "stream",
     "text": [
      "100%|██████████| 7/7 [00:09<00:00,  1.29s/it]\n"
     ]
    },
    {
     "name": "stdout",
     "output_type": "stream",
     "text": [
      "Test set Average loss: 0.2720533332654408 | IOU: 0.3629371566431863 | Dice: 0.8844119480678013\n",
      "Fold: 7\n",
      "Train Loss: 0.28330726503280174 | Train IOU: 0.35712507367134094 | Train Dice: 0.8792029619216919\n",
      "Train Loss: 0.2854264603372206 | Train IOU: 0.34973254799842834 | Train Dice: 0.8768491744995117\n",
      "Train Loss: 0.28403974834241363 | Train IOU: 0.3493104577064514 | Train Dice: 0.8778063654899597\n",
      "Train Loss: 0.2856305487323226 | Train IOU: 0.34461110830307007 | Train Dice: 0.8763285875320435\n",
      "Train Loss: 0.2836532218937288 | Train IOU: 0.3527735471725464 | Train Dice: 0.8788518309593201\n"
     ]
    },
    {
     "name": "stderr",
     "output_type": "stream",
     "text": [
      "100%|██████████| 7/7 [00:06<00:00,  1.02it/s]\n"
     ]
    },
    {
     "name": "stdout",
     "output_type": "stream",
     "text": [
      "Test set Average loss: 0.283402966601508 | IOU: 0.36192743267331806 | Dice: 0.8753222056797573\n",
      "Fold: 8\n",
      "Train Loss: 0.2841543285993108 | Train IOU: 0.3523366153240204 | Train Dice: 0.8776745200157166\n",
      "Train Loss: 0.28325914839903515 | Train IOU: 0.3520902395248413 | Train Dice: 0.8784652352333069\n",
      "Train Loss: 0.2847041103400682 | Train IOU: 0.348817378282547 | Train Dice: 0.8771900534629822\n",
      "Train Loss: 0.28472156535115156 | Train IOU: 0.35034868121147156 | Train Dice: 0.8781469464302063\n",
      "Train Loss: 0.2826633733092693 | Train IOU: 0.3502822816371918 | Train Dice: 0.8783833980560303\n"
     ]
    },
    {
     "name": "stderr",
     "output_type": "stream",
     "text": [
      "100%|██████████| 7/7 [00:09<00:00,  1.30s/it]\n"
     ]
    },
    {
     "name": "stdout",
     "output_type": "stream",
     "text": [
      "Test set Average loss: 0.2736365113939558 | IOU: 0.3141621776989528 | Dice: 0.8869378226143974\n",
      "Fold: 9\n",
      "Train Loss: 0.2836915853253582 | Train IOU: 0.34979870915412903 | Train Dice: 0.8780457973480225\n",
      "Train Loss: 0.28390820664271976 | Train IOU: 0.3494858741760254 | Train Dice: 0.8776386976242065\n",
      "Train Loss: 0.28597867619573025 | Train IOU: 0.3473689556121826 | Train Dice: 0.8773207068443298\n",
      "Train Loss: 0.2841184100038127 | Train IOU: 0.34807485342025757 | Train Dice: 0.8780869841575623\n",
      "Train Loss: 0.28318118369370177 | Train IOU: 0.34833115339279175 | Train Dice: 0.8781545758247375\n"
     ]
    },
    {
     "name": "stderr",
     "output_type": "stream",
     "text": [
      "100%|██████████| 7/7 [00:10<00:00,  1.50s/it]\n"
     ]
    },
    {
     "name": "stdout",
     "output_type": "stream",
     "text": [
      "Test set Average loss: 0.27979118270533426 | IOU: 0.31771701148578096 | Dice: 0.8790710994175502\n",
      "Fold: 10\n",
      "Train Loss: 0.2845180115678854 | Train IOU: 0.3465556204319 | Train Dice: 0.8775067329406738\n",
      "Train Loss: 0.2855563788560399 | Train IOU: 0.35219481587409973 | Train Dice: 0.8774243593215942\n",
      "Train Loss: 0.2839584047334236 | Train IOU: 0.3507448434829712 | Train Dice: 0.878163754940033\n",
      "Train Loss: 0.2843853452226572 | Train IOU: 0.3511730134487152 | Train Dice: 0.8777517676353455\n",
      "Train Loss: 0.2853232345037293 | Train IOU: 0.34722864627838135 | Train Dice: 0.8766123056411743\n"
     ]
    },
    {
     "name": "stderr",
     "output_type": "stream",
     "text": [
      "100%|██████████| 7/7 [00:07<00:00,  1.14s/it]"
     ]
    },
    {
     "name": "stdout",
     "output_type": "stream",
     "text": [
      "Test set Average loss: 0.2658813957657133 | IOU: 0.3639284244605473 | Dice: 0.8867652075631278\n"
     ]
    },
    {
     "name": "stderr",
     "output_type": "stream",
     "text": [
      "\n"
     ]
    }
   ],
   "source": [
    "\n",
    "torch.cuda.empty_cache()\n",
    "\n",
    "for fold, (train_idx, test_idx) in enumerate(kf.split(dataset)):\n",
    "    print(f\"Fold: {fold + 1}\")\n",
    "    # get test loader\n",
    "    train_loader = DataLoader(\n",
    "        dataset=augmented_dataset,\n",
    "        batch_size=BATCH_SIZE,\n",
    "        sampler=torch.utils.data.SubsetRandomSampler(train_idx)\n",
    "        )\n",
    "    # get train loader\n",
    "    test_loader = DataLoader(\n",
    "        dataset=dataset,\n",
    "        batch_size=BATCH_SIZE,\n",
    "        sampler=torch.utils.data.SubsetRandomSampler(test_idx),\n",
    "    )\n",
    "    #Train Model\n",
    "    for i in range(5):\n",
    "        train(model, loss, device, train_loader, optimizer, jaccard, dice)\n",
    "    \n",
    "    #Decays learning rate after each kfold\n",
    "    lr_scheduler.step()\n",
    "    \n",
    "    #Evaluate model\n",
    "    model.eval()\n",
    "    test_loss = 0\n",
    "    test_IOU = 0\n",
    "    test_dice = 0\n",
    "    with torch.inference_mode():\n",
    "        for X, y in tqdm(test_loader):\n",
    "            X, y = X.to(device), y.to(device)\n",
    "            output = model(X)\n",
    "            test_loss += loss(output, y).item()\n",
    "            test_IOU += jaccard(torch.where(output > 0.5, 1, 0),torch.where(y > 0.50, 1, 0)).item()\n",
    "            test_dice += dice(torch.where(output > 0.5, 1, 0),torch.where(y > 0.50, 1, 0)).item()\n",
    "\n",
    "    \n",
    "    test_loss /= len(test_loader)\n",
    "    test_IOU /= len(test_loader)\n",
    "    test_dice /= len(test_loader)\n",
    "    print(f\"Test set Average loss: {test_loss} | IOU: {test_IOU} | Dice: {test_dice}\")\n",
    "    "
   ]
  },
  {
   "cell_type": "markdown",
   "metadata": {},
   "source": [
    "Data Augmentation"
   ]
  },
  {
   "cell_type": "code",
   "execution_count": 17,
   "metadata": {
    "execution": {
     "iopub.execute_input": "2024-04-15T21:14:36.560531Z",
     "iopub.status.busy": "2024-04-15T21:14:36.559603Z",
     "iopub.status.idle": "2024-04-15T21:14:36.564245Z",
     "shell.execute_reply": "2024-04-15T21:14:36.563478Z",
     "shell.execute_reply.started": "2024-04-15T21:14:36.560498Z"
    }
   },
   "outputs": [],
   "source": [
    "loss = torch.nn.BCELoss()"
   ]
  },
  {
   "cell_type": "code",
   "execution_count": 19,
   "metadata": {
    "execution": {
     "iopub.execute_input": "2024-04-15T21:15:06.439050Z",
     "iopub.status.busy": "2024-04-15T21:15:06.437974Z",
     "iopub.status.idle": "2024-04-15T22:35:55.908911Z",
     "shell.execute_reply": "2024-04-15T22:35:55.908421Z",
     "shell.execute_reply.started": "2024-04-15T21:15:06.438941Z"
    }
   },
   "outputs": [
    {
     "name": "stdout",
     "output_type": "stream",
     "text": [
      "Fold: 1\n",
      "Train Loss: 0.38629110340486494 | Train IOU: 0.06416987627744675 | Train Dice: 0.8428726196289062\n",
      "Train Loss: 0.3383284404612424 | Train IOU: 0.09211471676826477 | Train Dice: 0.8475379347801208\n",
      "Train Loss: 0.3276794516203696 | Train IOU: 0.10796163231134415 | Train Dice: 0.8500115871429443\n",
      "Train Loss: 0.30798986815569696 | Train IOU: 0.257480263710022 | Train Dice: 0.8609015941619873\n",
      "Train Loss: 0.301526569483573 | Train IOU: 0.2932197153568268 | Train Dice: 0.8655009865760803\n"
     ]
    },
    {
     "name": "stderr",
     "output_type": "stream",
     "text": [
      "100%|██████████| 7/7 [00:07<00:00,  1.01s/it]\n"
     ]
    },
    {
     "name": "stdout",
     "output_type": "stream",
     "text": [
      "Test set Average loss: 0.3627829466547285 | IOU: 0.18875228400741303 | Dice: 0.8309416089739118\n",
      "Fold: 2\n",
      "Train Loss: 0.29365150081483943 | Train IOU: 0.291400671005249 | Train Dice: 0.8702702522277832\n",
      "Train Loss: 0.284516556482566 | Train IOU: 0.32536235451698303 | Train Dice: 0.8756483197212219\n",
      "Train Loss: 0.2820563622211155 | Train IOU: 0.3495596647262573 | Train Dice: 0.8773300647735596\n",
      "Train Loss: 0.2790564889447731 | Train IOU: 0.3604278266429901 | Train Dice: 0.879483699798584\n",
      "Train Loss: 0.27782066114116133 | Train IOU: 0.3657207190990448 | Train Dice: 0.8798471093177795\n"
     ]
    },
    {
     "name": "stderr",
     "output_type": "stream",
     "text": [
      "100%|██████████| 7/7 [00:09<00:00,  1.42s/it]\n"
     ]
    },
    {
     "name": "stdout",
     "output_type": "stream",
     "text": [
      "Test set Average loss: 0.3016202471085957 | IOU: 0.37554243206977844 | Dice: 0.8669665200369698\n",
      "Fold: 3\n",
      "Train Loss: 0.27763889703834266 | Train IOU: 0.3701327443122864 | Train Dice: 0.8815921545028687\n",
      "Train Loss: 0.27639121549171314 | Train IOU: 0.37554892897605896 | Train Dice: 0.8806297779083252\n",
      "Train Loss: 0.27316750115469884 | Train IOU: 0.3816166818141937 | Train Dice: 0.8827662467956543\n",
      "Train Loss: 0.27395132471594896 | Train IOU: 0.3858667314052582 | Train Dice: 0.8822600245475769\n",
      "Train Loss: 0.27294176581658813 | Train IOU: 0.38179630041122437 | Train Dice: 0.8826286196708679\n"
     ]
    },
    {
     "name": "stderr",
     "output_type": "stream",
     "text": [
      "100%|██████████| 7/7 [00:11<00:00,  1.67s/it]\n"
     ]
    },
    {
     "name": "stdout",
     "output_type": "stream",
     "text": [
      "Test set Average loss: 0.27959818073681425 | IOU: 0.41636099985667635 | Dice: 0.8775382723127093\n",
      "Fold: 4\n",
      "Train Loss: 0.27227085541214857 | Train IOU: 0.380340576171875 | Train Dice: 0.8826198577880859\n",
      "Train Loss: 0.2725303810939454 | Train IOU: 0.3822510838508606 | Train Dice: 0.8826766610145569\n",
      "Train Loss: 0.27356503093451784 | Train IOU: 0.38286346197128296 | Train Dice: 0.8824284076690674\n",
      "Train Loss: 0.27221810321013135 | Train IOU: 0.3863668739795685 | Train Dice: 0.8831830620765686\n",
      "Train Loss: 0.2738532254047561 | Train IOU: 0.3834488093852997 | Train Dice: 0.8821937441825867\n"
     ]
    },
    {
     "name": "stderr",
     "output_type": "stream",
     "text": [
      "100%|██████████| 7/7 [00:08<00:00,  1.21s/it]\n"
     ]
    },
    {
     "name": "stdout",
     "output_type": "stream",
     "text": [
      "Test set Average loss: 0.27132705066885265 | IOU: 0.4020748862198421 | Dice: 0.8820596422467913\n",
      "Fold: 5\n",
      "Train Loss: 0.27138417174941615 | Train IOU: 0.3841342329978943 | Train Dice: 0.8834658861160278\n",
      "Train Loss: 0.2757853755825444 | Train IOU: 0.3728063106536865 | Train Dice: 0.88093101978302\n",
      "Train Loss: 0.2718079769820498 | Train IOU: 0.38011035323143005 | Train Dice: 0.8831321597099304\n",
      "Train Loss: 0.27268944053273453 | Train IOU: 0.38332584500312805 | Train Dice: 0.8826606273651123\n",
      "Train Loss: 0.27409205520362184 | Train IOU: 0.379260390996933 | Train Dice: 0.8822095990180969\n"
     ]
    },
    {
     "name": "stderr",
     "output_type": "stream",
     "text": [
      "100%|██████████| 7/7 [00:09<00:00,  1.33s/it]\n"
     ]
    },
    {
     "name": "stdout",
     "output_type": "stream",
     "text": [
      "Test set Average loss: 0.26506890782288145 | IOU: 0.46969624928065706 | Dice: 0.8874939509800502\n",
      "Fold: 6\n",
      "Train Loss: 0.27128253824878157 | Train IOU: 0.38518497347831726 | Train Dice: 0.8838115334510803\n",
      "Train Loss: 0.27785480492993403 | Train IOU: 0.37856096029281616 | Train Dice: 0.8807684779167175\n",
      "Train Loss: 0.27476927455057176 | Train IOU: 0.37776628136634827 | Train Dice: 0.8821098208427429\n",
      "Train Loss: 0.2720282760105635 | Train IOU: 0.3853963017463684 | Train Dice: 0.8837186694145203\n",
      "Train Loss: 0.2714582841124451 | Train IOU: 0.3859442472457886 | Train Dice: 0.8843171000480652\n"
     ]
    },
    {
     "name": "stderr",
     "output_type": "stream",
     "text": [
      "100%|██████████| 7/7 [00:10<00:00,  1.50s/it]\n"
     ]
    },
    {
     "name": "stdout",
     "output_type": "stream",
     "text": [
      "Test set Average loss: 0.27222813240119387 | IOU: 0.40721667238644194 | Dice: 0.8767539433070591\n",
      "Fold: 7\n",
      "Train Loss: 0.2715461335161276 | Train IOU: 0.37834951281547546 | Train Dice: 0.8822835087776184\n",
      "Train Loss: 0.2705771862937693 | Train IOU: 0.38084059953689575 | Train Dice: 0.8833017349243164\n",
      "Train Loss: 0.26945045485831143 | Train IOU: 0.38725486397743225 | Train Dice: 0.8848113417625427\n",
      "Train Loss: 0.2718081971009572 | Train IOU: 0.37920263409614563 | Train Dice: 0.8829035758972168\n",
      "Train Loss: 0.27024106890486 | Train IOU: 0.3831268548965454 | Train Dice: 0.8838162422180176\n"
     ]
    },
    {
     "name": "stderr",
     "output_type": "stream",
     "text": [
      "100%|██████████| 7/7 [00:08<00:00,  1.25s/it]\n"
     ]
    },
    {
     "name": "stdout",
     "output_type": "stream",
     "text": [
      "Test set Average loss: 0.29967394896915983 | IOU: 0.45591833761760164 | Dice: 0.8721271242414202\n",
      "Fold: 8\n",
      "Train Loss: 0.2712529623194745 | Train IOU: 0.3901199698448181 | Train Dice: 0.8846302032470703\n",
      "Train Loss: 0.27406418977076547 | Train IOU: 0.3823392391204834 | Train Dice: 0.8817262649536133\n",
      "Train Loss: 0.27469886107402935 | Train IOU: 0.38568824529647827 | Train Dice: 0.8822749257087708\n",
      "Train Loss: 0.2742906735654463 | Train IOU: 0.3804031312465668 | Train Dice: 0.8818307518959045\n",
      "Train Loss: 0.2770696075861914 | Train IOU: 0.3784743845462799 | Train Dice: 0.8810383081436157\n"
     ]
    },
    {
     "name": "stderr",
     "output_type": "stream",
     "text": [
      "100%|██████████| 7/7 [00:08<00:00,  1.16s/it]\n"
     ]
    },
    {
     "name": "stdout",
     "output_type": "stream",
     "text": [
      "Test set Average loss: 0.27864787195410046 | IOU: 0.4144444337912968 | Dice: 0.8784251894269671\n",
      "Fold: 9\n",
      "Train Loss: 0.27517380604618474 | Train IOU: 0.3806667625904083 | Train Dice: 0.8818724155426025\n",
      "Train Loss: 0.27189009336003084 | Train IOU: 0.3796652853488922 | Train Dice: 0.8828878402709961\n",
      "Train Loss: 0.2727722860219186 | Train IOU: 0.38105419278144836 | Train Dice: 0.8826588988304138\n",
      "Train Loss: 0.2736228701838276 | Train IOU: 0.38176316022872925 | Train Dice: 0.8822314739227295\n",
      "Train Loss: 0.27613054451189545 | Train IOU: 0.3842284679412842 | Train Dice: 0.881344199180603\n"
     ]
    },
    {
     "name": "stderr",
     "output_type": "stream",
     "text": [
      "100%|██████████| 7/7 [00:07<00:00,  1.04s/it]\n"
     ]
    },
    {
     "name": "stdout",
     "output_type": "stream",
     "text": [
      "Test set Average loss: 0.2747173479625157 | IOU: 0.4271509775093624 | Dice: 0.880335807800293\n",
      "Fold: 10\n",
      "Train Loss: 0.27546615349619014 | Train IOU: 0.38390353322029114 | Train Dice: 0.8815337419509888\n",
      "Train Loss: 0.2736168085483083 | Train IOU: 0.3869211971759796 | Train Dice: 0.8827494382858276\n",
      "Train Loss: 0.27753261359114395 | Train IOU: 0.37873217463493347 | Train Dice: 0.880262553691864\n",
      "Train Loss: 0.2751583608618954 | Train IOU: 0.3832845091819763 | Train Dice: 0.8818897008895874\n",
      "Train Loss: 0.2796055745137365 | Train IOU: 0.3804454803466797 | Train Dice: 0.8802502751350403\n"
     ]
    },
    {
     "name": "stderr",
     "output_type": "stream",
     "text": [
      "100%|██████████| 7/7 [00:08<00:00,  1.23s/it]"
     ]
    },
    {
     "name": "stdout",
     "output_type": "stream",
     "text": [
      "Test set Average loss: 0.26345946320465635 | IOU: 0.39206341547625406 | Dice: 0.8833623613630023\n"
     ]
    },
    {
     "name": "stderr",
     "output_type": "stream",
     "text": [
      "\n"
     ]
    }
   ],
   "source": [
    "torch.cuda.empty_cache()\n",
    "\n",
    "for fold, (train_idx, test_idx) in enumerate(kf.split(dataset)):\n",
    "    print(f\"Fold: {fold + 1}\")\n",
    "    # get test loader\n",
    "    train_loader = DataLoader(\n",
    "        dataset=augmented_dataset,\n",
    "        batch_size=BATCH_SIZE,\n",
    "        sampler=torch.utils.data.SubsetRandomSampler(train_idx)\n",
    "        )\n",
    "    # get train loader\n",
    "    test_loader = DataLoader(\n",
    "        dataset=dataset,\n",
    "        batch_size=BATCH_SIZE,\n",
    "        sampler=torch.utils.data.SubsetRandomSampler(test_idx),\n",
    "    )\n",
    "    #Train Model\n",
    "    for i in range(5):\n",
    "        train(model, loss, device, train_loader, optimizer, jaccard, dice)\n",
    "    \n",
    "    #Decays learning rate after each kfold\n",
    "    lr_scheduler.step()\n",
    "    \n",
    "    #Evaluate model\n",
    "    model.eval()\n",
    "    test_loss = 0\n",
    "    test_IOU = 0\n",
    "    test_dice = 0\n",
    "    with torch.inference_mode():\n",
    "        for X, y in tqdm(test_loader):\n",
    "            X, y = X.to(device), y.to(device)\n",
    "            output = model(X)\n",
    "            test_loss += loss(output, y).item()\n",
    "            test_IOU += jaccard(torch.where(output > 0.5, 1, 0),torch.where(y > 0.50, 1, 0)).item()\n",
    "            test_dice += dice(torch.where(output > 0.5, 1, 0),torch.where(y > 0.50, 1, 0)).item()\n",
    "\n",
    "    \n",
    "    test_loss /= len(test_loader)\n",
    "    test_IOU /= len(test_loader)\n",
    "    test_dice /= len(test_loader)\n",
    "    print(f\"Test set Average loss: {test_loss} | IOU: {test_IOU} | Dice: {test_dice}\")"
   ]
  },
  {
   "cell_type": "markdown",
   "metadata": {},
   "source": [
    "Testing"
   ]
  },
  {
   "cell_type": "code",
   "execution_count": 11,
   "metadata": {
    "execution": {
     "iopub.execute_input": "2024-04-15T03:38:46.201695Z",
     "iopub.status.busy": "2024-04-15T03:38:46.201510Z",
     "iopub.status.idle": "2024-04-15T03:38:46.319072Z",
     "shell.execute_reply": "2024-04-15T03:38:46.318392Z",
     "shell.execute_reply.started": "2024-04-15T03:38:46.201679Z"
    }
   },
   "outputs": [
    {
     "data": {
      "text/plain": [
       "<matplotlib.image.AxesImage at 0x7f0e2ae9f4c0>"
      ]
     },
     "execution_count": 11,
     "metadata": {},
     "output_type": "execute_result"
    },
    {
     "data": {
      "image/png": "[encoded data removed]",
      "text/plain": [
       "<Figure size 640x480 with 1 Axes>"
      ]
     },
     "metadata": {},
     "output_type": "display_data"
    }
   ],
   "source": [
    "plt.imshow(y[3].cpu().permute(1,2,0))"
   ]
  },
  {
   "cell_type": "code",
   "execution_count": 12,
   "metadata": {
    "execution": {
     "iopub.execute_input": "2024-04-15T03:38:46.320648Z",
     "iopub.status.busy": "2024-04-15T03:38:46.320467Z",
     "iopub.status.idle": "2024-04-15T03:38:46.425360Z",
     "shell.execute_reply": "2024-04-15T03:38:46.424754Z",
     "shell.execute_reply.started": "2024-04-15T03:38:46.320632Z"
    }
   },
   "outputs": [
    {
     "data": {
      "text/plain": [
       "<matplotlib.image.AxesImage at 0x7f0e50b28550>"
      ]
     },
     "execution_count": 12,
     "metadata": {},
     "output_type": "execute_result"
    },
    {
     "data": {
      "image/png": "[encoded data removed]",
      "text/plain": [
       "<Figure size 640x480 with 1 Axes>"
      ]
     },
     "metadata": {},
     "output_type": "display_data"
    }
   ],
   "source": [
    "x = torch.where(output > 0.5, 1, 0)\n",
    "plt.imshow(x[3].cpu().permute(1,2,0))"
   ]
  },
  {
   "cell_type": "code",
   "execution_count": 54,
   "metadata": {},
   "outputs": [
    {
     "name": "stdout",
     "output_type": "stream",
     "text": [
      "tensor(0.2342, device='cuda:0')\n"
     ]
    }
   ],
   "source": [
    "print(jaccard(torch.where(output > 0.35, 1, 0),torch.where(y > 0.40, 1, 0)))"
   ]
  },
  {
   "cell_type": "code",
   "execution_count": 38,
   "metadata": {},
   "outputs": [
    {
     "ename": "TypeError",
     "evalue": "update() got an unexpected keyword argument 'num_classes'",
     "output_type": "error",
     "traceback": [
      "\u001b[0;31m---------------------------------------------------------------------------\u001b[0m",
      "\u001b[0;31mTypeError\u001b[0m                                 Traceback (most recent call last)",
      "Cell \u001b[0;32mIn [38], line 3\u001b[0m\n\u001b[1;32m      1\u001b[0m \u001b[38;5;66;03m#print(loss(output,y))\u001b[39;00m\n\u001b[0;32m----> 3\u001b[0m dice \u001b[38;5;241m=\u001b[39m \u001b[43mjaccard\u001b[49m\u001b[43m(\u001b[49m\u001b[43mnum_classes\u001b[49m\u001b[38;5;241;43m=\u001b[39;49m\u001b[38;5;241;43m2\u001b[39;49m\u001b[43m,\u001b[49m\u001b[43mthreshold\u001b[49m\u001b[38;5;241;43m=\u001b[39;49m\u001b[38;5;241;43m0.5\u001b[39;49m\u001b[43m,\u001b[49m\u001b[43maverage\u001b[49m\u001b[38;5;241;43m=\u001b[39;49m\u001b[38;5;124;43m'\u001b[39;49m\u001b[38;5;124;43mmicro\u001b[39;49m\u001b[38;5;124;43m'\u001b[39;49m\u001b[43m)\u001b[49m\n\u001b[1;32m      5\u001b[0m \u001b[38;5;28mprint\u001b[39m(dice(torch\u001b[38;5;241m.\u001b[39mwhere(output \u001b[38;5;241m>\u001b[39m \u001b[38;5;241m0.50\u001b[39m, \u001b[38;5;241m1\u001b[39m, \u001b[38;5;241m0\u001b[39m),torch\u001b[38;5;241m.\u001b[39mwhere(y \u001b[38;5;241m>\u001b[39m \u001b[38;5;241m0.40\u001b[39m, \u001b[38;5;241m1\u001b[39m, \u001b[38;5;241m0\u001b[39m)))\n",
      "File \u001b[0;32m/usr/local/lib/python3.9/dist-packages/torch/nn/modules/module.py:1130\u001b[0m, in \u001b[0;36mModule._call_impl\u001b[0;34m(self, *input, **kwargs)\u001b[0m\n\u001b[1;32m   1126\u001b[0m \u001b[38;5;66;03m# If we don't have any hooks, we want to skip the rest of the logic in\u001b[39;00m\n\u001b[1;32m   1127\u001b[0m \u001b[38;5;66;03m# this function, and just call forward.\u001b[39;00m\n\u001b[1;32m   1128\u001b[0m \u001b[38;5;28;01mif\u001b[39;00m \u001b[38;5;129;01mnot\u001b[39;00m (\u001b[38;5;28mself\u001b[39m\u001b[38;5;241m.\u001b[39m_backward_hooks \u001b[38;5;129;01mor\u001b[39;00m \u001b[38;5;28mself\u001b[39m\u001b[38;5;241m.\u001b[39m_forward_hooks \u001b[38;5;129;01mor\u001b[39;00m \u001b[38;5;28mself\u001b[39m\u001b[38;5;241m.\u001b[39m_forward_pre_hooks \u001b[38;5;129;01mor\u001b[39;00m _global_backward_hooks\n\u001b[1;32m   1129\u001b[0m         \u001b[38;5;129;01mor\u001b[39;00m _global_forward_hooks \u001b[38;5;129;01mor\u001b[39;00m _global_forward_pre_hooks):\n\u001b[0;32m-> 1130\u001b[0m     \u001b[38;5;28;01mreturn\u001b[39;00m \u001b[43mforward_call\u001b[49m\u001b[43m(\u001b[49m\u001b[38;5;241;43m*\u001b[39;49m\u001b[38;5;28;43minput\u001b[39;49m\u001b[43m,\u001b[49m\u001b[43m \u001b[49m\u001b[38;5;241;43m*\u001b[39;49m\u001b[38;5;241;43m*\u001b[39;49m\u001b[43mkwargs\u001b[49m\u001b[43m)\u001b[49m\n\u001b[1;32m   1131\u001b[0m \u001b[38;5;66;03m# Do not call functions when jit is used\u001b[39;00m\n\u001b[1;32m   1132\u001b[0m full_backward_hooks, non_full_backward_hooks \u001b[38;5;241m=\u001b[39m [], []\n",
      "File \u001b[0;32m/usr/local/lib/python3.9/dist-packages/torchmetrics/metric.py:304\u001b[0m, in \u001b[0;36mMetric.forward\u001b[0;34m(self, *args, **kwargs)\u001b[0m\n\u001b[1;32m    302\u001b[0m     \u001b[38;5;28mself\u001b[39m\u001b[38;5;241m.\u001b[39m_forward_cache \u001b[38;5;241m=\u001b[39m \u001b[38;5;28mself\u001b[39m\u001b[38;5;241m.\u001b[39m_forward_full_state_update(\u001b[38;5;241m*\u001b[39margs, \u001b[38;5;241m*\u001b[39m\u001b[38;5;241m*\u001b[39mkwargs)\n\u001b[1;32m    303\u001b[0m \u001b[38;5;28;01melse\u001b[39;00m:\n\u001b[0;32m--> 304\u001b[0m     \u001b[38;5;28mself\u001b[39m\u001b[38;5;241m.\u001b[39m_forward_cache \u001b[38;5;241m=\u001b[39m \u001b[38;5;28;43mself\u001b[39;49m\u001b[38;5;241;43m.\u001b[39;49m\u001b[43m_forward_reduce_state_update\u001b[49m\u001b[43m(\u001b[49m\u001b[38;5;241;43m*\u001b[39;49m\u001b[43margs\u001b[49m\u001b[43m,\u001b[49m\u001b[43m \u001b[49m\u001b[38;5;241;43m*\u001b[39;49m\u001b[38;5;241;43m*\u001b[39;49m\u001b[43mkwargs\u001b[49m\u001b[43m)\u001b[49m\n\u001b[1;32m    306\u001b[0m \u001b[38;5;28;01mreturn\u001b[39;00m \u001b[38;5;28mself\u001b[39m\u001b[38;5;241m.\u001b[39m_forward_cache\n",
      "File \u001b[0;32m/usr/local/lib/python3.9/dist-packages/torchmetrics/metric.py:373\u001b[0m, in \u001b[0;36mMetric._forward_reduce_state_update\u001b[0;34m(self, *args, **kwargs)\u001b[0m\n\u001b[1;32m    370\u001b[0m \u001b[38;5;28mself\u001b[39m\u001b[38;5;241m.\u001b[39m_enable_grad \u001b[38;5;241m=\u001b[39m \u001b[38;5;28;01mTrue\u001b[39;00m  \u001b[38;5;66;03m# allow grads for batch computation\u001b[39;00m\n\u001b[1;32m    372\u001b[0m \u001b[38;5;66;03m# calculate batch state and compute batch value\u001b[39;00m\n\u001b[0;32m--> 373\u001b[0m \u001b[38;5;28;43mself\u001b[39;49m\u001b[38;5;241;43m.\u001b[39;49m\u001b[43mupdate\u001b[49m\u001b[43m(\u001b[49m\u001b[38;5;241;43m*\u001b[39;49m\u001b[43margs\u001b[49m\u001b[43m,\u001b[49m\u001b[43m \u001b[49m\u001b[38;5;241;43m*\u001b[39;49m\u001b[38;5;241;43m*\u001b[39;49m\u001b[43mkwargs\u001b[49m\u001b[43m)\u001b[49m\n\u001b[1;32m    374\u001b[0m batch_val \u001b[38;5;241m=\u001b[39m \u001b[38;5;28mself\u001b[39m\u001b[38;5;241m.\u001b[39mcompute()\n\u001b[1;32m    376\u001b[0m \u001b[38;5;66;03m# reduce batch and global state\u001b[39;00m\n",
      "File \u001b[0;32m/usr/local/lib/python3.9/dist-packages/torchmetrics/metric.py:466\u001b[0m, in \u001b[0;36mMetric._wrap_update.<locals>.wrapped_func\u001b[0;34m(*args, **kwargs)\u001b[0m\n\u001b[1;32m    464\u001b[0m \u001b[38;5;28;01mwith\u001b[39;00m torch\u001b[38;5;241m.\u001b[39mset_grad_enabled(\u001b[38;5;28mself\u001b[39m\u001b[38;5;241m.\u001b[39m_enable_grad):\n\u001b[1;32m    465\u001b[0m     \u001b[38;5;28;01mtry\u001b[39;00m:\n\u001b[0;32m--> 466\u001b[0m         \u001b[43mupdate\u001b[49m\u001b[43m(\u001b[49m\u001b[38;5;241;43m*\u001b[39;49m\u001b[43margs\u001b[49m\u001b[43m,\u001b[49m\u001b[43m \u001b[49m\u001b[38;5;241;43m*\u001b[39;49m\u001b[38;5;241;43m*\u001b[39;49m\u001b[43mkwargs\u001b[49m\u001b[43m)\u001b[49m\n\u001b[1;32m    467\u001b[0m     \u001b[38;5;28;01mexcept\u001b[39;00m \u001b[38;5;167;01mRuntimeError\u001b[39;00m \u001b[38;5;28;01mas\u001b[39;00m err:\n\u001b[1;32m    468\u001b[0m         \u001b[38;5;28;01mif\u001b[39;00m \u001b[38;5;124m\"\u001b[39m\u001b[38;5;124mExpected all tensors to be on\u001b[39m\u001b[38;5;124m\"\u001b[39m \u001b[38;5;129;01min\u001b[39;00m \u001b[38;5;28mstr\u001b[39m(err):\n",
      "\u001b[0;31mTypeError\u001b[0m: update() got an unexpected keyword argument 'num_classes'"
     ]
    }
   ],
   "source": [
    "#print(loss(output,y))\n",
    "\n",
    "print(dice(torch.where(output > 0.50, 1, 0),torch.where(y > 0.40, 1, 0)))"
   ]
  },
  {
   "cell_type": "code",
   "execution_count": 19,
   "metadata": {},
   "outputs": [
    {
     "name": "stderr",
     "output_type": "stream",
     "text": [
      "  8%|▊         | 1/13 [00:00<00:07,  1.62it/s]"
     ]
    },
    {
     "name": "stdout",
     "output_type": "stream",
     "text": [
      "Loss: 0.3947315812110901\n"
     ]
    },
    {
     "name": "stderr",
     "output_type": "stream",
     "text": [
      " 15%|█▌        | 2/13 [00:01<00:08,  1.29it/s]"
     ]
    },
    {
     "name": "stdout",
     "output_type": "stream",
     "text": [
      "Loss: 0.7293487787246704\n"
     ]
    },
    {
     "name": "stderr",
     "output_type": "stream",
     "text": [
      " 23%|██▎       | 3/13 [00:02<00:08,  1.25it/s]"
     ]
    },
    {
     "name": "stdout",
     "output_type": "stream",
     "text": [
      "Loss: 1.0140481293201447\n"
     ]
    },
    {
     "name": "stderr",
     "output_type": "stream",
     "text": [
      " 31%|███       | 4/13 [00:02<00:05,  1.54it/s]"
     ]
    },
    {
     "name": "stdout",
     "output_type": "stream",
     "text": [
      "Loss: 1.4639271199703217\n"
     ]
    },
    {
     "name": "stderr",
     "output_type": "stream",
     "text": [
      " 38%|███▊      | 5/13 [00:03<00:04,  1.82it/s]"
     ]
    },
    {
     "name": "stdout",
     "output_type": "stream",
     "text": [
      "Loss: 1.7604164779186249\n"
     ]
    },
    {
     "name": "stderr",
     "output_type": "stream",
     "text": [
      " 46%|████▌     | 6/13 [00:03<00:03,  2.09it/s]"
     ]
    },
    {
     "name": "stdout",
     "output_type": "stream",
     "text": [
      "Loss: 2.129318207502365\n"
     ]
    },
    {
     "name": "stderr",
     "output_type": "stream",
     "text": [
      " 54%|█████▍    | 7/13 [00:03<00:02,  2.31it/s]"
     ]
    },
    {
     "name": "stdout",
     "output_type": "stream",
     "text": [
      "Loss: 2.4442706406116486\n"
     ]
    },
    {
     "name": "stderr",
     "output_type": "stream",
     "text": [
      " 62%|██████▏   | 8/13 [00:04<00:02,  2.48it/s]"
     ]
    },
    {
     "name": "stdout",
     "output_type": "stream",
     "text": [
      "Loss: 2.740805983543396\n"
     ]
    },
    {
     "name": "stderr",
     "output_type": "stream",
     "text": [
      " 69%|██████▉   | 9/13 [00:04<00:01,  2.65it/s]"
     ]
    },
    {
     "name": "stdout",
     "output_type": "stream",
     "text": [
      "Loss: 3.0997469425201416\n"
     ]
    },
    {
     "name": "stderr",
     "output_type": "stream",
     "text": [
      " 77%|███████▋  | 10/13 [00:04<00:01,  2.76it/s]"
     ]
    },
    {
     "name": "stdout",
     "output_type": "stream",
     "text": [
      "Loss: 3.425353080034256\n"
     ]
    },
    {
     "name": "stderr",
     "output_type": "stream",
     "text": [
      " 85%|████████▍ | 11/13 [00:05<00:00,  2.85it/s]"
     ]
    },
    {
     "name": "stdout",
     "output_type": "stream",
     "text": [
      "Loss: 3.699008136987686\n"
     ]
    },
    {
     "name": "stderr",
     "output_type": "stream",
     "text": [
      "100%|██████████| 13/13 [00:05<00:00,  2.32it/s]"
     ]
    },
    {
     "name": "stdout",
     "output_type": "stream",
     "text": [
      "Loss: 4.033684074878693\n",
      "Loss: 4.262686043977737\n"
     ]
    },
    {
     "name": "stderr",
     "output_type": "stream",
     "text": [
      "\n"
     ]
    }
   ],
   "source": [
    "test_loss = 0\n",
    "with torch.inference_mode():\n",
    "    for X, y in tqdm(test_loader):\n",
    "        X, y = X.to(device), y.to(device)\n",
    "        output = model(X)\n",
    "        test_loss += loss(output, y).item()\n",
    "        print(f\"Loss: {test_loss}\")"
   ]
  },
  {
   "cell_type": "code",
   "execution_count": 20,
   "metadata": {},
   "outputs": [
    {
     "data": {
      "text/plain": [
       "0.32789892645982593"
      ]
     },
     "execution_count": 20,
     "metadata": {},
     "output_type": "execute_result"
    }
   ],
   "source": [
    "test_loss / len(test_loader)"
   ]
  },
  {
   "cell_type": "code",
   "execution_count": 23,
   "metadata": {},
   "outputs": [
    {
     "name": "stderr",
     "output_type": "stream",
     "text": [
      "  0%|          | 0/13 [00:00<?, ?it/s]100%|██████████| 13/13 [00:05<00:00,  2.57it/s]\n"
     ]
    }
   ],
   "source": [
    "model.eval()\n",
    "test_loss = 0\n",
    "test_accuracy = 0\n",
    "with torch.inference_mode():\n",
    "    for X, y in tqdm(test_loader):\n",
    "        X, y = X.to(device), y.to(device)\n",
    "        output = model(X)\n",
    "        test_loss += loss(output, y).item()\n",
    "        test_accuracy += jaccard(torch.where(output > 0.40, 1, 0),torch.where(y > 0.40, 1, 0)).item()\n",
    "\n",
    "\n"
   ]
  },
  {
   "cell_type": "code",
   "execution_count": 25,
   "metadata": {},
   "outputs": [
    {
     "data": {
      "text/plain": [
       "0.33271955297543454"
      ]
     },
     "execution_count": 25,
     "metadata": {},
     "output_type": "execute_result"
    }
   ],
   "source": [
    "test_loss / len(test_loader)"
   ]
  },
  {
   "cell_type": "code",
   "execution_count": null,
   "metadata": {},
   "outputs": [],
   "source": []
  }
 ],
 "metadata": {
  "kernelspec": {
   "display_name": "Python 3 (ipykernel)",
   "language": "python",
   "name": "python3"
  },
  "language_info": {
   "codemirror_mode": {
    "name": "ipython",
    "version": 3
   },
   "file_extension": ".py",
   "mimetype": "text/x-python",
   "name": "python",
   "nbconvert_exporter": "python",
   "pygments_lexer": "ipython3",
   "version": "3.9.16"
  }
 },
 "nbformat": 4,
 "nbformat_minor": 4
}
